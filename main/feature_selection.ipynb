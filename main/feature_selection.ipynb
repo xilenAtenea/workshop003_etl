{
 "cells": [
  {
   "cell_type": "code",
   "execution_count": 1,
   "metadata": {},
   "outputs": [],
   "source": [
    "import re\n",
    "import time\n",
    "from json import dumps\n",
    "import pandas as pd\n",
    "from sklearn.model_selection import train_test_split \n",
    "from kafka import KafkaProducer"
   ]
  },
  {
   "cell_type": "code",
   "execution_count": 2,
   "metadata": {},
   "outputs": [],
   "source": [
    "# Read all the datasets\n",
    "\n",
    "df_2015=pd.read_csv(\"../data/2015.csv\")\n",
    "df_2016=pd.read_csv(\"../data/2016.csv\")\n",
    "df_2017=pd.read_csv(\"../data/2017.csv\")\n",
    "df_2018=pd.read_csv(\"../data/2018.csv\")\n",
    "df_2019=pd.read_csv(\"../data/2019.csv\")"
   ]
  },
  {
   "cell_type": "code",
   "execution_count": 3,
   "metadata": {},
   "outputs": [],
   "source": [
    "# Dropping unnecesary columns\n",
    "\n",
    "dfs_2015_and_2016 = [df_2015, df_2016]\n",
    "for df in dfs_2015_and_2016:\n",
    "    df.drop(columns={'Region', 'Country', 'Dystopia Residual', 'Generosity', 'Happiness Rank'}, inplace=True)\n",
    "\n",
    "df_2015 = df_2015.drop('Standard Error', axis=1)\n",
    "\n",
    "df_2016 = df_2016.drop(['Lower Confidence Interval', 'Upper Confidence Interval'], axis=1)\n",
    "\n",
    "df_2017 = df_2017.drop(['Country', 'Whisker.low', 'Whisker.high', 'Dystopia.Residual', 'Generosity', 'Happiness.Rank'], axis=1)\n",
    "\n",
    "dfs_2018_and_2019 = [df_2018, df_2019]\n",
    "for df in dfs_2018_and_2019:\n",
    "    df.drop(columns={'Country or region', 'Generosity', 'Overall rank'}, inplace=True)"
   ]
  },
  {
   "cell_type": "code",
   "execution_count": 4,
   "metadata": {},
   "outputs": [],
   "source": [
    "# Normalizing the columns headers\n",
    "\n",
    "dfs = [df_2015, df_2016, df_2017, df_2018, df_2019]\n",
    "\n",
    "def normalize_column_names(df):\n",
    "    df.columns = [re.sub(r'\\(|\\)|\\.| ', '_', col.lower()).rstrip('_') for col in df.columns]\n",
    "    df.columns = [re.sub(r'[^a-zA-Z0-9_]', '', col.replace('__', '_')) for col in df.columns]\n",
    "\n",
    "for df in dfs:\n",
    "    normalize_column_names(df)"
   ]
  },
  {
   "cell_type": "code",
   "execution_count": 5,
   "metadata": {},
   "outputs": [],
   "source": [
    "# Rename columns\n",
    "\n",
    "df_2018 = df_2018.rename(columns={'score': 'happiness_score'})\n",
    "df_2019 = df_2019.rename(columns={'score': 'happiness_score'})\n",
    "\n",
    "dfs_2015_to_2017 = [df_2015, df_2016, df_2017]\n",
    "for df in dfs_2015_to_2017:\n",
    "    df.rename(columns={'economy_gdp_per_capita': 'gdp_per_capita', 'family': 'social_support', \n",
    "                       'freedom': 'freedom_to_make_life_choices', 'trust_government_corruption': 'perceptions_of_corruption',\n",
    "                       'health_life_expectancy':'healthy_life_expectancy'}, inplace=True)"
   ]
  },
  {
   "cell_type": "code",
   "execution_count": 6,
   "metadata": {},
   "outputs": [],
   "source": [
    "# Concatenated the dataset\n",
    "\n",
    "dfs = [df_2015, df_2016, df_2017, df_2018, df_2019]\n",
    "concatenated_df = pd.concat(dfs, axis=0)"
   ]
  },
  {
   "cell_type": "code",
   "execution_count": 12,
   "metadata": {},
   "outputs": [],
   "source": [
    "# Dropping the null row\n",
    "\n",
    "concatenated_df = concatenated_df.dropna(subset=['perceptions_of_corruption'])"
   ]
  },
  {
   "cell_type": "code",
   "execution_count": 15,
   "metadata": {},
   "outputs": [
    {
     "data": {
      "text/html": [
       "<div>\n",
       "<style scoped>\n",
       "    .dataframe tbody tr th:only-of-type {\n",
       "        vertical-align: middle;\n",
       "    }\n",
       "\n",
       "    .dataframe tbody tr th {\n",
       "        vertical-align: top;\n",
       "    }\n",
       "\n",
       "    .dataframe thead th {\n",
       "        text-align: right;\n",
       "    }\n",
       "</style>\n",
       "<table border=\"1\" class=\"dataframe\">\n",
       "  <thead>\n",
       "    <tr style=\"text-align: right;\">\n",
       "      <th></th>\n",
       "      <th>happiness_score</th>\n",
       "      <th>gdp_per_capita</th>\n",
       "      <th>social_support</th>\n",
       "      <th>healthy_life_expectancy</th>\n",
       "      <th>freedom_to_make_life_choices</th>\n",
       "      <th>perceptions_of_corruption</th>\n",
       "    </tr>\n",
       "  </thead>\n",
       "  <tbody>\n",
       "    <tr>\n",
       "      <th>0</th>\n",
       "      <td>7.587</td>\n",
       "      <td>1.39651</td>\n",
       "      <td>1.34951</td>\n",
       "      <td>0.94143</td>\n",
       "      <td>0.66557</td>\n",
       "      <td>0.41978</td>\n",
       "    </tr>\n",
       "    <tr>\n",
       "      <th>1</th>\n",
       "      <td>7.561</td>\n",
       "      <td>1.30232</td>\n",
       "      <td>1.40223</td>\n",
       "      <td>0.94784</td>\n",
       "      <td>0.62877</td>\n",
       "      <td>0.14145</td>\n",
       "    </tr>\n",
       "    <tr>\n",
       "      <th>2</th>\n",
       "      <td>7.527</td>\n",
       "      <td>1.32548</td>\n",
       "      <td>1.36058</td>\n",
       "      <td>0.87464</td>\n",
       "      <td>0.64938</td>\n",
       "      <td>0.48357</td>\n",
       "    </tr>\n",
       "    <tr>\n",
       "      <th>3</th>\n",
       "      <td>7.522</td>\n",
       "      <td>1.45900</td>\n",
       "      <td>1.33095</td>\n",
       "      <td>0.88521</td>\n",
       "      <td>0.66973</td>\n",
       "      <td>0.36503</td>\n",
       "    </tr>\n",
       "    <tr>\n",
       "      <th>4</th>\n",
       "      <td>7.427</td>\n",
       "      <td>1.32629</td>\n",
       "      <td>1.32261</td>\n",
       "      <td>0.90563</td>\n",
       "      <td>0.63297</td>\n",
       "      <td>0.32957</td>\n",
       "    </tr>\n",
       "  </tbody>\n",
       "</table>\n",
       "</div>"
      ],
      "text/plain": [
       "   happiness_score  gdp_per_capita  social_support  healthy_life_expectancy  \\\n",
       "0            7.587         1.39651         1.34951                  0.94143   \n",
       "1            7.561         1.30232         1.40223                  0.94784   \n",
       "2            7.527         1.32548         1.36058                  0.87464   \n",
       "3            7.522         1.45900         1.33095                  0.88521   \n",
       "4            7.427         1.32629         1.32261                  0.90563   \n",
       "\n",
       "   freedom_to_make_life_choices  perceptions_of_corruption  \n",
       "0                       0.66557                    0.41978  \n",
       "1                       0.62877                    0.14145  \n",
       "2                       0.64938                    0.48357  \n",
       "3                       0.66973                    0.36503  \n",
       "4                       0.63297                    0.32957  "
      ]
     },
     "execution_count": 15,
     "metadata": {},
     "output_type": "execute_result"
    }
   ],
   "source": [
    "# Checking the final dataset\n",
    "\n",
    "concatenated_df.head(5)"
   ]
  },
  {
   "cell_type": "code",
   "execution_count": 16,
   "metadata": {},
   "outputs": [
    {
     "name": "stdout",
     "output_type": "stream",
     "text": [
      "Independent variables for the model: \n",
      "    gdp_per_capita  social_support  healthy_life_expectancy  \\\n",
      "0         1.39651         1.34951                  0.94143   \n",
      "1         1.30232         1.40223                  0.94784   \n",
      "2         1.32548         1.36058                  0.87464   \n",
      "3         1.45900         1.33095                  0.88521   \n",
      "4         1.32629         1.32261                  0.90563   \n",
      "\n",
      "   freedom_to_make_life_choices  perceptions_of_corruption  \n",
      "0                       0.66557                    0.41978  \n",
      "1                       0.62877                    0.14145  \n",
      "2                       0.64938                    0.48357  \n",
      "3                       0.66973                    0.36503  \n",
      "4                       0.63297                    0.32957  \n",
      "Dependent variable: \n",
      "  0    7.587\n",
      "1    7.561\n",
      "2    7.527\n",
      "3    7.522\n",
      "4    7.427\n",
      "Name: happiness_score, dtype: float64\n"
     ]
    }
   ],
   "source": [
    "# Split the  dependent variable to the independet variables\n",
    "\n",
    "X = concatenated_df.drop('happiness_score',axis= 1) \n",
    "y = concatenated_df['happiness_score'] \n",
    "\n",
    "print(f\"Independent variables for the model: \\n {X.head(5)}\") \n",
    "print(f\"Dependent variable: \\n  {y.head(5)}\")"
   ]
  },
  {
   "cell_type": "code",
   "execution_count": 17,
   "metadata": {},
   "outputs": [],
   "source": [
    "# Split data between test data and training data\n",
    "\n",
    "X_train, X_test, y_train, y_test = train_test_split( \n",
    "    X, y, test_size=0.3, random_state=101)"
   ]
  },
  {
   "cell_type": "code",
   "execution_count": 21,
   "metadata": {},
   "outputs": [
    {
     "name": "stdout",
     "output_type": "stream",
     "text": [
      "Shape of y_test:(235,)\n",
      "Shape of X_test: (235, 6)\n",
      "Shape of test_data: (235, 6)\n"
     ]
    }
   ],
   "source": [
    "# Create only one dataframe to send all the test data (X_test + y_test)\n",
    "\n",
    "print(f\"Shape of y_test:{y_test.shape}\")\n",
    "print(f\"Shape of X_test: {X_test.shape}\")\n",
    "\n",
    "X_test[\"happiness_score\"] = y_test\n",
    "test_data = X_test\n",
    "print(f\"Shape of test_data: {test_data.shape}\")"
   ]
  },
  {
   "cell_type": "code",
   "execution_count": 22,
   "metadata": {},
   "outputs": [
    {
     "data": {
      "text/html": [
       "<div>\n",
       "<style scoped>\n",
       "    .dataframe tbody tr th:only-of-type {\n",
       "        vertical-align: middle;\n",
       "    }\n",
       "\n",
       "    .dataframe tbody tr th {\n",
       "        vertical-align: top;\n",
       "    }\n",
       "\n",
       "    .dataframe thead th {\n",
       "        text-align: right;\n",
       "    }\n",
       "</style>\n",
       "<table border=\"1\" class=\"dataframe\">\n",
       "  <thead>\n",
       "    <tr style=\"text-align: right;\">\n",
       "      <th></th>\n",
       "      <th>gdp_per_capita</th>\n",
       "      <th>social_support</th>\n",
       "      <th>healthy_life_expectancy</th>\n",
       "      <th>freedom_to_make_life_choices</th>\n",
       "      <th>perceptions_of_corruption</th>\n",
       "      <th>happiness_score</th>\n",
       "    </tr>\n",
       "  </thead>\n",
       "  <tbody>\n",
       "    <tr>\n",
       "      <th>116</th>\n",
       "      <td>1.10000</td>\n",
       "      <td>0.84200</td>\n",
       "      <td>0.78500</td>\n",
       "      <td>0.30500</td>\n",
       "      <td>0.12500</td>\n",
       "      <td>4.548</td>\n",
       "    </tr>\n",
       "    <tr>\n",
       "      <th>134</th>\n",
       "      <td>0.88180</td>\n",
       "      <td>0.74700</td>\n",
       "      <td>0.61712</td>\n",
       "      <td>0.17288</td>\n",
       "      <td>0.06324</td>\n",
       "      <td>4.194</td>\n",
       "    </tr>\n",
       "    <tr>\n",
       "      <th>42</th>\n",
       "      <td>0.74553</td>\n",
       "      <td>1.04356</td>\n",
       "      <td>0.64425</td>\n",
       "      <td>0.57733</td>\n",
       "      <td>0.09472</td>\n",
       "      <td>6.123</td>\n",
       "    </tr>\n",
       "    <tr>\n",
       "      <th>100</th>\n",
       "      <td>0.71206</td>\n",
       "      <td>1.07284</td>\n",
       "      <td>0.07566</td>\n",
       "      <td>0.30658</td>\n",
       "      <td>0.03060</td>\n",
       "      <td>4.867</td>\n",
       "    </tr>\n",
       "    <tr>\n",
       "      <th>65</th>\n",
       "      <td>0.85500</td>\n",
       "      <td>1.23000</td>\n",
       "      <td>0.57800</td>\n",
       "      <td>0.44800</td>\n",
       "      <td>0.02300</td>\n",
       "      <td>5.662</td>\n",
       "    </tr>\n",
       "  </tbody>\n",
       "</table>\n",
       "</div>"
      ],
      "text/plain": [
       "     gdp_per_capita  social_support  healthy_life_expectancy  \\\n",
       "116         1.10000         0.84200                  0.78500   \n",
       "134         0.88180         0.74700                  0.61712   \n",
       "42          0.74553         1.04356                  0.64425   \n",
       "100         0.71206         1.07284                  0.07566   \n",
       "65          0.85500         1.23000                  0.57800   \n",
       "\n",
       "     freedom_to_make_life_choices  perceptions_of_corruption  happiness_score  \n",
       "116                       0.30500                    0.12500            4.548  \n",
       "134                       0.17288                    0.06324            4.194  \n",
       "42                        0.57733                    0.09472            6.123  \n",
       "100                       0.30658                    0.03060            4.867  \n",
       "65                        0.44800                    0.02300            5.662  "
      ]
     },
     "execution_count": 22,
     "metadata": {},
     "output_type": "execute_result"
    }
   ],
   "source": [
    "# Checking the df with the test data to be sent\n",
    "\n",
    "test_data.head(5)"
   ]
  },
  {
   "cell_type": "code",
   "execution_count": 13,
   "metadata": {},
   "outputs": [],
   "source": [
    "# Data producer - Sending the test data\n",
    "\n",
    "producer = KafkaProducer(\n",
    "    value_serializer = lambda m: dumps(m).encode('utf-8'),\n",
    "    bootstrap_servers = ['localhost:9092'],\n",
    ")\n",
    "\n",
    "for _, row in test_data.iterrows():\n",
    "    message = row.to_dict()\n",
    "    producer.send('test-data', value=message)\n",
    "    time.sleep(2)"
   ]
  }
 ],
 "metadata": {
  "kernelspec": {
   "display_name": "wenv",
   "language": "python",
   "name": "python3"
  },
  "language_info": {
   "codemirror_mode": {
    "name": "ipython",
    "version": 3
   },
   "file_extension": ".py",
   "mimetype": "text/x-python",
   "name": "python",
   "nbconvert_exporter": "python",
   "pygments_lexer": "ipython3",
   "version": "3.10.5"
  }
 },
 "nbformat": 4,
 "nbformat_minor": 2
}
