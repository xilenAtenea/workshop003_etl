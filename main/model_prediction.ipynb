{
 "cells": [
  {
   "cell_type": "code",
   "execution_count": 8,
   "metadata": {},
   "outputs": [],
   "source": [
    "from json import loads\n",
    "import joblib\n",
    "from kafka import KafkaConsumer\n",
    "import pandas as pd\n",
    "from db_queries import insert_data, create_table"
   ]
  },
  {
   "cell_type": "code",
   "execution_count": 13,
   "metadata": {},
   "outputs": [
    {
     "name": "stdout",
     "output_type": "stream",
     "text": [
      "Timeout\n",
      "Timeout\n",
      "Timeout\n"
     ]
    }
   ],
   "source": [
    "# Kafka consumer\n",
    "\n",
    "consumer = KafkaConsumer(\n",
    "    'test-data',  # Topic name\n",
    "    auto_offset_reset='earliest',\n",
    "    enable_auto_commit=True,\n",
    "    value_deserializer=lambda m: loads(m.decode('utf-8')),\n",
    "    bootstrap_servers=['localhost:9092']\n",
    ")\n",
    "\n",
    "all_data_received = []\n",
    "timeout_count = 0\n",
    "\n",
    "while timeout_count < 3:\n",
    "\n",
    "    message = consumer.poll(timeout_ms=3000)\n",
    "    if message:\n",
    "        for _, records in message.items():\n",
    "            for record in records:\n",
    "                # print(record.value)\n",
    "                all_data_received.append(record.value) \n",
    "\n",
    "        timeout_count = 0\n",
    "    \n",
    "    else:\n",
    "        print(\"Timeout\") \n",
    "        timeout_count += 1\n",
    "\n",
    "consumer.close()\n",
    "\n",
    "df = pd.DataFrame(all_data_received)\n"
   ]
  },
  {
   "cell_type": "code",
   "execution_count": 14,
   "metadata": {},
   "outputs": [
    {
     "name": "stdout",
     "output_type": "stream",
     "text": [
      "(235, 6)\n",
      "   gdp_per_capita  social_support  healthy_life_expectancy  \\\n",
      "0         1.10000         0.84200                  0.78500   \n",
      "1         0.88180         0.74700                  0.61712   \n",
      "2         0.74553         1.04356                  0.64425   \n",
      "3         0.71206         1.07284                  0.07566   \n",
      "4         0.85500         1.23000                  0.57800   \n",
      "\n",
      "   freedom_to_make_life_choices  perceptions_of_corruption  happiness_score  \n",
      "0                       0.30500                    0.12500            4.548  \n",
      "1                       0.17288                    0.06324            4.194  \n",
      "2                       0.57733                    0.09472            6.123  \n",
      "3                       0.30658                    0.03060            4.867  \n",
      "4                       0.44800                    0.02300            5.662  \n"
     ]
    }
   ],
   "source": [
    "# df with the data received by the consumer\n",
    "\n",
    "print(df.shape)\n",
    "print(df.head(5))"
   ]
  },
  {
   "cell_type": "code",
   "execution_count": 11,
   "metadata": {},
   "outputs": [],
   "source": [
    "# Load the model\n",
    "\n",
    "model = joblib.load('my_model.pkl')"
   ]
  },
  {
   "cell_type": "code",
   "execution_count": 12,
   "metadata": {},
   "outputs": [
    {
     "name": "stdout",
     "output_type": "stream",
     "text": [
      "(235, 7)\n",
      "   gdp_per_capita  social_support  healthy_life_expectancy  \\\n",
      "0         1.10000         0.84200                  0.78500   \n",
      "1         0.88180         0.74700                  0.61712   \n",
      "2         0.74553         1.04356                  0.64425   \n",
      "3         0.71206         1.07284                  0.07566   \n",
      "4         1.24600         1.50400                  0.88100   \n",
      "\n",
      "   freedom_to_make_life_choices  perceptions_of_corruption  happiness_score  \\\n",
      "0                       0.30500                    0.12500            4.548   \n",
      "1                       0.17288                    0.06324            4.194   \n",
      "2                       0.57733                    0.09472            6.123   \n",
      "3                       0.30658                    0.03060            4.867   \n",
      "4                       0.33400                    0.01400            6.198   \n",
      "\n",
      "   happiness_score_prediction  \n",
      "0                    5.441824  \n",
      "1                    4.686299  \n",
      "2                    5.421008  \n",
      "3                    4.307523  \n",
      "4                    6.053102  \n"
     ]
    }
   ],
   "source": [
    "# Prediction\n",
    "\n",
    "independent_variables_df = df.drop('happiness_score', axis=1)\n",
    "\n",
    "df['happiness_score_prediction'] = model.predict(independent_variables_df) \n",
    "\n",
    "print(df.shape)\n",
    "print(df.head(5))"
   ]
  },
  {
   "cell_type": "code",
   "execution_count": 6,
   "metadata": {},
   "outputs": [
    {
     "data": {
      "text/plain": [
       "'ok'"
      ]
     },
     "execution_count": 6,
     "metadata": {},
     "output_type": "execute_result"
    }
   ],
   "source": [
    "# Create the table for the data in my db \n",
    "\n",
    "create_table()"
   ]
  },
  {
   "cell_type": "code",
   "execution_count": 7,
   "metadata": {},
   "outputs": [
    {
     "data": {
      "text/plain": [
       "'ok'"
      ]
     },
     "execution_count": 7,
     "metadata": {},
     "output_type": "execute_result"
    }
   ],
   "source": [
    "# Load the data into my db\n",
    "\n",
    "insert_data(df)"
   ]
  }
 ],
 "metadata": {
  "kernelspec": {
   "display_name": "wenv",
   "language": "python",
   "name": "python3"
  },
  "language_info": {
   "codemirror_mode": {
    "name": "ipython",
    "version": 3
   },
   "file_extension": ".py",
   "mimetype": "text/x-python",
   "name": "python",
   "nbconvert_exporter": "python",
   "pygments_lexer": "ipython3",
   "version": "3.10.5"
  }
 },
 "nbformat": 4,
 "nbformat_minor": 2
}
